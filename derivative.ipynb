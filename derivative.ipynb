{
 "cells": [
  {
   "cell_type": "code",
   "execution_count": 1,
   "id": "9afb905a-b4d3-4e67-bf6e-c9394e337aeb",
   "metadata": {
    "execution": {
     "iopub.execute_input": "2021-08-06T04:24:19.309036Z",
     "iopub.status.busy": "2021-08-06T04:24:19.308547Z",
     "iopub.status.idle": "2021-08-06T04:24:19.944533Z",
     "shell.execute_reply": "2021-08-06T04:24:19.943803Z",
     "shell.execute_reply.started": "2021-08-06T04:24:19.308897Z"
    },
    "tags": []
   },
   "outputs": [],
   "source": [
    "import pymysql as pydb\n",
    "pydb.install_as_MySQLdb()\n",
    "import MySQLdb\n",
    "from sqlalchemy import create_engine\n",
    "import pandas as pd"
   ]
  },
  {
   "cell_type": "code",
   "execution_count": 2,
   "id": "c2fdd2dc-e863-49ed-9000-9aec67f3d35a",
   "metadata": {
    "execution": {
     "iopub.execute_input": "2021-08-06T04:24:20.486137Z",
     "iopub.status.busy": "2021-08-06T04:24:20.485693Z",
     "iopub.status.idle": "2021-08-06T04:24:20.492655Z",
     "shell.execute_reply": "2021-08-06T04:24:20.491581Z",
     "shell.execute_reply.started": "2021-08-06T04:24:20.486084Z"
    },
    "tags": []
   },
   "outputs": [],
   "source": [
    "def db_connect():\n",
    "    user = 'ryuiks'\n",
    "    password = '1q2w3e4r!!'\n",
    "    db_name = 'db_aiam_analysis'\n",
    "\n",
    "    engine = create_engine(\"mysql+mysqldb://\" + user + \":\" + password\n",
    "                           + \"@10.17.126.105/\" + db_name, encoding='utf-8')\n",
    "    conn = engine.connect()\n",
    "    \n",
    "    return engine"
   ]
  },
  {
   "cell_type": "code",
   "execution_count": 3,
   "id": "df7a8b16-5084-4172-b1de-4672ed0d0ce2",
   "metadata": {
    "execution": {
     "iopub.execute_input": "2021-08-06T04:24:21.117072Z",
     "iopub.status.busy": "2021-08-06T04:24:21.116631Z",
     "iopub.status.idle": "2021-08-06T04:24:21.151737Z",
     "shell.execute_reply": "2021-08-06T04:24:21.150923Z",
     "shell.execute_reply.started": "2021-08-06T04:24:21.117018Z"
    },
    "tags": []
   },
   "outputs": [],
   "source": [
    "engine = db_connect()"
   ]
  },
  {
   "cell_type": "code",
   "execution_count": 4,
   "id": "e40f8049-880f-4592-b2f7-398b4f7f5737",
   "metadata": {
    "execution": {
     "iopub.execute_input": "2021-08-06T04:24:21.548209Z",
     "iopub.status.busy": "2021-08-06T04:24:21.547733Z",
     "iopub.status.idle": "2021-08-06T04:24:21.559192Z",
     "shell.execute_reply": "2021-08-06T04:24:21.557859Z",
     "shell.execute_reply.started": "2021-08-06T04:24:21.548150Z"
    },
    "tags": []
   },
   "outputs": [],
   "source": [
    "def get_drv_result(engine, base_date):\n",
    "    sql = f\"\"\"\n",
    "      select \n",
    "            a.str_code, \n",
    "            a.activate, \n",
    "            cal_profit(a.str_code, '{base_date}', 0) 1d, \n",
    "            cal_profit(a.str_code, '{base_date}', 7) 1w,\t\t\t\t\t\t\t\t\t\t\n",
    "            cal_profit(a.str_code, '{base_date}', 14) 2w, \n",
    "            cal_profit(a.str_code, '{base_date}', 30) 1m,\t\t\t\t\t\t\t\t\t\t\n",
    "            cal_profit(a.str_code, '{base_date}', 91) 3m, \n",
    "            cal_profit(a.str_code, '{base_date}', 182) 6m,\t\t\t\t\t\t\t\t\t\t\n",
    "            cal_profit(a.str_code, '{base_date}', 365) 1y, \n",
    "            cal_profit(a.str_code, '{base_date}', 1000) cum,\t\t\t\t\t\t\t\t\t\t\n",
    "            cal_hit(a.str_code, '{base_date}', 1000) hit, \n",
    "            cal_vol(a.str_code, '{base_date}', 365) vol\t\t\t\t\n",
    "       from dm_strategys a, \n",
    "            select_return b \n",
    "      where a.str_code = b.str_code \n",
    "        and a.activate > 0 \n",
    "        and b.date = '{base_date}'\n",
    "      ;\n",
    "    \"\"\"\n",
    "    df = pd.DataFrame()\n",
    "    try:\n",
    "        # 쿼리 수행\n",
    "        df = pd.read_sql_query(sql=sql, con=engine)\n",
    "        \n",
    "        # 데이터 정제\n",
    "        df['activate'] = df['activate'].map({\n",
    "            1:'전략개발중',\n",
    "            2:'모의운용중',\n",
    "            3:'실운용중',\n",
    "        })\n",
    "        df['hit'] = df['hit'] * 100\n",
    "        msg = '성공'\n",
    "         \n",
    "    except Exception as e:\n",
    "        msg = '수익률을 조회할 수 없습니다.'\n",
    "#         print(f\"e {e}\")\n",
    "    return msg, df"
   ]
  },
  {
   "cell_type": "code",
   "execution_count": 5,
   "id": "6b0bfe53-90fc-422f-90e1-fe7844cd2f38",
   "metadata": {
    "execution": {
     "iopub.execute_input": "2021-08-06T04:24:22.104248Z",
     "iopub.status.busy": "2021-08-06T04:24:22.103848Z",
     "iopub.status.idle": "2021-08-06T04:24:22.129332Z",
     "shell.execute_reply": "2021-08-06T04:24:22.128522Z",
     "shell.execute_reply.started": "2021-08-06T04:24:22.104198Z"
    },
    "tags": []
   },
   "outputs": [
    {
     "data": {
      "text/html": [
       "<div>\n",
       "<style scoped>\n",
       "    .dataframe tbody tr th:only-of-type {\n",
       "        vertical-align: middle;\n",
       "    }\n",
       "\n",
       "    .dataframe tbody tr th {\n",
       "        vertical-align: top;\n",
       "    }\n",
       "\n",
       "    .dataframe thead th {\n",
       "        text-align: right;\n",
       "    }\n",
       "</style>\n",
       "<table border=\"1\" class=\"dataframe\">\n",
       "  <thead>\n",
       "    <tr style=\"text-align: right;\">\n",
       "      <th></th>\n",
       "      <th>date</th>\n",
       "    </tr>\n",
       "  </thead>\n",
       "  <tbody>\n",
       "    <tr>\n",
       "      <th>0</th>\n",
       "      <td>2021-08-06</td>\n",
       "    </tr>\n",
       "    <tr>\n",
       "      <th>1</th>\n",
       "      <td>2021-08-05</td>\n",
       "    </tr>\n",
       "    <tr>\n",
       "      <th>2</th>\n",
       "      <td>2021-08-04</td>\n",
       "    </tr>\n",
       "  </tbody>\n",
       "</table>\n",
       "</div>"
      ],
      "text/plain": [
       "         date\n",
       "0  2021-08-06\n",
       "1  2021-08-05\n",
       "2  2021-08-04"
      ]
     },
     "execution_count": 5,
     "metadata": {},
     "output_type": "execute_result"
    }
   ],
   "source": [
    "def get_date_list(engine):\n",
    "    from datetime import datetime\n",
    "    base_date = datetime.today().strftime('%Y-%m-%d')\n",
    "\n",
    "    db_start_date = '2021-08-04'\n",
    "    sql = f\"\"\"\n",
    "        select distinct date \n",
    "          from select_return\n",
    "         where date >= '{db_start_date}'\n",
    "         order by date desc;\n",
    "    \"\"\"\n",
    "    #{db_start_date} \n",
    "    df = pd.read_sql_query(sql=sql, con=engine)\n",
    "    return df\n",
    "\n",
    "get_date_list(engine)"
   ]
  },
  {
   "cell_type": "code",
   "execution_count": 6,
   "id": "9fe58dca-ccdb-485c-8048-e10e8fb84cbc",
   "metadata": {
    "execution": {
     "iopub.execute_input": "2021-08-06T04:24:22.655855Z",
     "iopub.status.busy": "2021-08-06T04:24:22.655348Z",
     "iopub.status.idle": "2021-08-06T04:24:27.268050Z",
     "shell.execute_reply": "2021-08-06T04:24:27.267079Z",
     "shell.execute_reply.started": "2021-08-06T04:24:22.655795Z"
    },
    "tags": []
   },
   "outputs": [
    {
     "name": "stdout",
     "output_type": "stream",
     "text": [
      "오늘은 2021-08-06\n",
      "2021-08-06 성공\n",
      "(18, 12)\n",
      "   str_code activate   1d    1w    2w    1m    3m    6m    1y   cum  \\\n",
      "0  dm_165_0    모의운용중  0.0  0.00  0.02  0.02  0.02  0.02  0.02  0.02   \n",
      "1  dm_165_1    모의운용중  0.0  0.03  0.07  0.07  0.07  0.07  0.07  0.07   \n",
      "2  dm_165_2    모의운용중  0.0  0.03  0.08  0.08  0.08  0.08  0.08  0.08   \n",
      "\n",
      "         hit   vol  \n",
      "0  66.666667  0.35  \n",
      "1  83.333333  0.31  \n",
      "2  83.333333  0.30  \n",
      "         date\n",
      "0  2021-08-06\n",
      "1  2021-08-05\n",
      "2  2021-08-04\n"
     ]
    }
   ],
   "source": [
    "if __name__ == '__main__':\n",
    "    from datetime import datetime\n",
    "    today = datetime.today().strftime('%Y-%m-%d')\n",
    "    print(f\"오늘은 {today}\")\n",
    "#     today = '2021-08-04'\n",
    "\n",
    "    engine = db_connect()\n",
    "    msg, df = get_drv_result(engine, today)\n",
    "    print(today, msg)\n",
    "    date = get_date_list(engine)\n",
    "    print(df.shape)\n",
    "    print(df.head(3))\n",
    "    print(date)"
   ]
  }
 ],
 "metadata": {
  "kernelspec": {
   "display_name": "Python 3.8",
   "language": "python",
   "name": "python3"
  },
  "language_info": {
   "codemirror_mode": {
    "name": "ipython",
    "version": 3
   },
   "file_extension": ".py",
   "mimetype": "text/x-python",
   "name": "python",
   "nbconvert_exporter": "python",
   "pygments_lexer": "ipython3",
   "version": "3.8.5"
  }
 },
 "nbformat": 4,
 "nbformat_minor": 5
}
